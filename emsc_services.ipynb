{
 "cells": [
  {
   "cell_type": "raw",
   "metadata": {},
   "source": []
  },
  {
   "cell_type": "markdown",
   "metadata": {
    "extensions": {
     "jupyter_dashboards": {
      "version": 1,
      "views": {
       "grid_default": {
        "col": 0,
        "height": 14,
        "hidden": false,
        "row": 64,
        "width": 12
       },
       "report_default": {}
      }
     }
    }
   },
   "source": [
    "# EMSC Web Services\n",
    "\n",
    "This tutorial aims to present the use of EMSC services with concrete examples. The main access point for all services is http://www.seismicportal.eu/webservices.html.\n",
    "\n",
    "\n",
    " * How to search and find events (*fdsn-event*)\n",
    " * Get a Flinn Engdhal region name (*Flinn Engdhal*)\n",
    " * For a given event, look at the EMSC, USGS and INGV websites (*EventID*)\n",
    " * Collect Moment Tensors (*Moment Tensor*)\n",
    " * Collect Felt reports (*testimonies*)\n",
    "\n",
    " * Near real time information\n",
    "\n",
    "The idea is to access Web services via an url, instead of a \"web page\" displayed in a browser, and get raw data. The principle is to build an url with some parameters that define the data we want to retrieve.\n",
    "Parameters depends on the web service specification - for example the FDSN specification etc.\n",
    "\n",
    "Use of web services\n",
    " * on the web, useful to separate data access and data display\n",
    " * automatic access via script (e.g. python, shell)\n",
    "\n",
    "\n",
    "\n",
    "\n"
   ]
  },
  {
   "cell_type": "markdown",
   "metadata": {
    "extensions": {
     "jupyter_dashboards": {
      "version": 1,
      "views": {
       "grid_default": {
        "col": 0,
        "height": 13,
        "hidden": false,
        "row": 78,
        "width": 12
       },
       "report_default": {}
      }
     }
    }
   },
   "source": [
    "# A. Let's start with Web Services 101\n",
    "\n",
    "From an user perspective, a web service is just an url!\n",
    "> http://www.seismicportal.eu/fdsnws/event/1/query?limit=10&start=2017-09-01&format=text&minmag=6.5\n",
    "\n",
    "It's composed of the \n",
    " * protocal : http\n",
    " * hostname : www.seismicportal.eu\n",
    " * path : /fdsnws/event/1/query\n",
    " * query : *?limit=10&start=2017-09-01&format=text&minmag=6.5* with different attributs _limit_, *start*, *format* and *minmag* and their values.\n",
    " \n",
    "From a practical point of view, we just have to \n",
    " 1. Build the url\n",
    " 2. Download the result\n",
    " 3. Parse the output"
   ]
  },
  {
   "cell_type": "markdown",
   "metadata": {
    "extensions": {
     "jupyter_dashboards": {
      "version": 1,
      "views": {
       "grid_default": {
        "col": 8,
        "height": 4,
        "hidden": false,
        "row": 25,
        "width": 4
       },
       "report_default": {}
      }
     }
    }
   },
   "source": [
    "### 1. First use in python"
   ]
  },
  {
   "cell_type": "code",
   "execution_count": 1,
   "metadata": {
    "collapsed": false,
    "extensions": {
     "jupyter_dashboards": {
      "version": 1,
      "views": {
       "grid_default": {
        "col": 8,
        "height": 20,
        "hidden": false,
        "row": 29,
        "width": 4
       },
       "report_default": {}
      }
     }
    }
   },
   "outputs": [
    {
     "name": "stdout",
     "output_type": "stream",
     "text": [
      "#EventID | Time | Latitude | Longitude | Depth/km | Author | Catalog | Contributor | ContributorID | MagType | Magnitude | MagAuthor | EventLocationName\n",
      "20171010_0000169|2017-10-10T18:53:33.6Z|-54.33|8.49|10.0|EMSC|EMSC-RTS|EMSC|623367|mw|6.7|EMSC|BOUVET ISLAND REGION\n",
      "20171008_0000103|2017-10-08T22:34:33.5Z|52.37|176.83|121.0|EMSC|EMSC-RTS|EMSC|622928|mw|6.6|EMSC|RAT ISLANDS, ALEUTIAN ISLANDS\n",
      "20170919_0000091|2017-09-19T18:14:38.5Z|18.59|-98.47|50.0|EMSC|EMSC-RTS|EMSC|619258|mw|7.1|EMSC|PUEBLA, MEXICO\n",
      "20170908_0000020|2017-09-08T04:49:21.2Z|15.02|-93.81|72.0|EMSC|EMSC-RTS|EMSC|616600|mw|8.1|EMSC|OFFSHORE CHIAPAS, MEXICO\n",
      "\n",
      "['20171010_0000169', '2017-10-10T18:53:33.6Z', '-54.33', '8.49', '10.0', 'EMSC', 'EMSC-RTS', 'EMSC', '623367', 'mw', '6.7', 'EMSC', 'BOUVET ISLAND REGION']\n",
      "['20171008_0000103', '2017-10-08T22:34:33.5Z', '52.37', '176.83', '121.0', 'EMSC', 'EMSC-RTS', 'EMSC', '622928', 'mw', '6.6', 'EMSC', 'RAT ISLANDS, ALEUTIAN ISLANDS']\n",
      "['20170919_0000091', '2017-09-19T18:14:38.5Z', '18.59', '-98.47', '50.0', 'EMSC', 'EMSC-RTS', 'EMSC', '619258', 'mw', '7.1', 'EMSC', 'PUEBLA, MEXICO']\n",
      "['20170908_0000020', '2017-09-08T04:49:21.2Z', '15.02', '-93.81', '72.0', 'EMSC', 'EMSC-RTS', 'EMSC', '616600', 'mw', '8.1', 'EMSC', 'OFFSHORE CHIAPAS, MEXICO']\n"
     ]
    }
   ],
   "source": [
    "import csv, requests\n",
    "from StringIO import StringIO\n",
    "def geturl(url):\n",
    "    res = requests.get(url, timeout=15)\n",
    "    return {'status': res.status_code,\n",
    "            'content': res.text}\n",
    "\n",
    "def parsecsv(txt, usedict=False):\n",
    "    if usedict:\n",
    "        parser = csv.DictReader(StringIO(txt), delimiter='|')\n",
    "    else:\n",
    "        parser = csv.reader(StringIO(txt), delimiter='|')\n",
    "        header = parser.next()\n",
    "    return [ line for line in parser]\n",
    "\n",
    "#Build the url\n",
    "url = \"http://www.seismicportal.eu/fdsnws/event/1/query?start=2017-09-01&format=text&minmag={minmag}\".format(minmag=6.5)\n",
    "\n",
    "#Download the result\n",
    "res = geturl(url)\n",
    "print res['content']\n",
    "\n",
    "#Parse the result\n",
    "for row in parsecsv(res['content']):\n",
    "    print row"
   ]
  },
  {
   "cell_type": "markdown",
   "metadata": {
    "extensions": {
     "jupyter_dashboards": {
      "version": 1,
      "views": {
       "grid_default": {
        "col": 4,
        "height": 4,
        "hidden": false,
        "row": 46,
        "width": 4
       },
       "report_default": {}
      }
     }
    }
   },
   "source": [
    " ### 2. First use in shell\n",
    " "
   ]
  },
  {
   "cell_type": "code",
   "execution_count": 2,
   "metadata": {
    "collapsed": false,
    "extensions": {
     "jupyter_dashboards": {
      "version": 1,
      "views": {
       "grid_default": {
        "col": 0,
        "height": 22,
        "hidden": false,
        "row": 91,
        "width": 4
       },
       "report_default": {}
      }
     }
    }
   },
   "outputs": [
    {
     "name": "stdout",
     "output_type": "stream",
     "text": [
      "*** Url building\n",
      "url=http://www.seismicportal.eu/fdsnws/event/1/query?start=2017-09-01&format=text&minmag=6.5\n",
      "\n",
      "*** Web service output ***\n",
      "#EventID | Time | Latitude | Longitude | Depth/km | Author | Catalog | Contributor | ContributorID | MagType | Magnitude | MagAuthor | EventLocationName\n",
      "20171010_0000169|2017-10-10T18:53:33.6Z|-54.33|8.49|10.0|EMSC|EMSC-RTS|EMSC|623367|mw|6.7|EMSC|BOUVET ISLAND REGION\n",
      "20171008_0000103|2017-10-08T22:34:33.5Z|52.37|176.83|121.0|EMSC|EMSC-RTS|EMSC|622928|mw|6.6|EMSC|RAT ISLANDS, ALEUTIAN ISLANDS\n",
      "20170919_0000091|2017-09-19T18:14:38.5Z|18.59|-98.47|50.0|EMSC|EMSC-RTS|EMSC|619258|mw|7.1|EMSC|PUEBLA, MEXICO\n",
      "20170908_0000020|2017-09-08T04:49:21.2Z|15.02|-93.81|72.0|EMSC|EMSC-RTS|EMSC|616600|mw|8.1|EMSC|OFFSHORE CHIAPAS, MEXICO\n",
      "\n",
      "*** Parsing ***\n",
      "unid:20171010_0000169, Origin Time:2017-10-10T18:53:33.6Z, Magnitude:6.7, Region:BOUVET ISLAND REGION\n",
      "unid:20171008_0000103, Origin Time:2017-10-08T22:34:33.5Z, Magnitude:6.6, Region:RAT ISLANDS, ALEUTIAN ISLANDS\n",
      "unid:20170919_0000091, Origin Time:2017-09-19T18:14:38.5Z, Magnitude:7.1, Region:PUEBLA, MEXICO\n",
      "unid:20170908_0000020, Origin Time:2017-09-08T04:49:21.2Z, Magnitude:8.1, Region:OFFSHORE CHIAPAS, MEXICO\n"
     ]
    },
    {
     "name": "stderr",
     "output_type": "stream",
     "text": [
      "--2017-10-20 12:04:47--  http://www.seismicportal.eu/fdsnws/event/1/query?start=2017-09-01&format=text&minmag=6.5\n",
      "Resolving www.seismicportal.eu (www.seismicportal.eu)... 193.52.21.115\n",
      "Connecting to www.seismicportal.eu (www.seismicportal.eu)|193.52.21.115|:80... connected.\n",
      "HTTP request sent, awaiting response... 200 OK\n",
      "Length: 628 [text/plain]\n",
      "Saving to: ‘res.txt’\n",
      "\n",
      "     0K                                                       100% 80.3M=0s\n",
      "\n",
      "2017-10-20 12:04:47 (80.3 MB/s) - ‘res.txt’ saved [628/628]\n",
      "\n"
     ]
    }
   ],
   "source": [
    "%%bash\n",
    "echo \"*** Url building\"\n",
    "MINMAG=6.5\n",
    "url=\"http://www.seismicportal.eu/fdsnws/event/1/query?start=2017-09-01&format=text&minmag=$MINMAG\"\n",
    "echo \"url=${url}\"\n",
    "\n",
    "echo\n",
    "echo \"*** Web service output ***\"\n",
    "wget -O res.txt ${url}\n",
    "cat res.txt\n",
    "\n",
    "echo\n",
    "echo \"*** Parsing ***\"\n",
    "awk -F'|' '!/^#/ {printf \"unid:%s, Origin Time:%s, Magnitude:%s, Region:%s\\n\", $1, $2, $11, $13}' res.txt\n"
   ]
  },
  {
   "cell_type": "markdown",
   "metadata": {
    "extensions": {
     "jupyter_dashboards": {
      "version": 1,
      "views": {
       "grid_default": {
        "col": 0,
        "height": 4,
        "hidden": false,
        "row": 0,
        "width": 4
       },
       "report_default": {}
      }
     }
    }
   },
   "source": [
    "### 3. Look at web service specifications\n",
    "\n",
    "It's important to know the parameters to customize the request for your use.\n",
    "For instance, the choice of the output format is important. Because it may be more or less easy to parse the results and because it depends on the information that you need.\n",
    "\n",
    "At the moment we have chosen\n",
    "\n",
    "> &format=text\n",
    "\n",
    "**text** is a good choice for shell use or for human eyes.\n",
    "\n",
    "However, for fdsn-event web service, you also have the choice of \n",
    "**json** and **xml**.\n",
    "\n"
   ]
  },
  {
   "cell_type": "markdown",
   "metadata": {
    "extensions": {
     "jupyter_dashboards": {
      "version": 1,
      "views": {
       "grid_default": {
        "col": 8,
        "height": 4,
        "hidden": false,
        "row": 49,
        "width": 4
       },
       "report_default": {}
      }
     }
    }
   },
   "source": [
    "#### Parsing json output"
   ]
  },
  {
   "cell_type": "code",
   "execution_count": 3,
   "metadata": {
    "collapsed": true,
    "extensions": {
     "jupyter_dashboards": {
      "version": 1,
      "views": {
       "grid_default": {
        "hidden": true
       },
       "report_default": {}
      }
     }
    }
   },
   "outputs": [],
   "source": [
    "import json\n",
    "def parsejson(txt):\n",
    "    return json.loads(txt)"
   ]
  },
  {
   "cell_type": "code",
   "execution_count": 4,
   "metadata": {
    "collapsed": false,
    "extensions": {
     "jupyter_dashboards": {
      "version": 1,
      "views": {
       "grid_default": {
        "hidden": true
       },
       "report_default": {}
      }
     }
    }
   },
   "outputs": [],
   "source": [
    "url = \"http://www.seismicportal.eu/fdsnws/event/1/query?start=2017-09-01&minmag=6.5&format=json\""
   ]
  },
  {
   "cell_type": "markdown",
   "metadata": {
    "extensions": {
     "jupyter_dashboards": {
      "version": 1,
      "views": {
       "grid_default": {
        "col": 4,
        "height": 4,
        "hidden": false,
        "row": 50,
        "width": 4
       },
       "report_default": {}
      }
     }
    }
   },
   "source": [
    "Note the **&format=json** in the url. Now we get the content:"
   ]
  },
  {
   "cell_type": "code",
   "execution_count": 5,
   "metadata": {
    "collapsed": false,
    "extensions": {
     "jupyter_dashboards": {
      "version": 1,
      "views": {
       "grid_default": {
        "col": 4,
        "height": 13,
        "hidden": false,
        "row": 91,
        "width": 4
       },
       "report_default": {}
      }
     }
    }
   },
   "outputs": [
    {
     "name": "stdout",
     "output_type": "stream",
     "text": [
      "{\"type\":\"FeatureCollection\",\"metadata\":{\"totalCount\":4},\"features\":[{\n",
      "  \"geometry\": {\n",
      "    \"type\": \"Point\", \n",
      "    \"coordinates\": [\n",
      "      8.49, \n",
      "      -54.33, \n",
      "      -10.0\n",
      "    ]\n",
      "  }, \n",
      "  \"type\": \"Feature\", \n",
      "  \"id\": \"20171010_0000169\", \n",
      "  \"properties\": {\n",
      "    \"lastupdate\": \"2017-10-11T06:50:00.0Z\", \n",
      "    \"magtype\": \"mw\", \n",
      "    \"evtype\": \"ke\", \n",
      "    \"lon\": 8.49, \n",
      "    \"auth\": \"EMSC\", \n",
      "    \"lat\": -54.33, \n",
      "   \n"
     ]
    }
   ],
   "source": [
    "info = geturl(url)\n",
    "print info['content'][:400]"
   ]
  },
  {
   "cell_type": "markdown",
   "metadata": {
    "extensions": {
     "jupyter_dashboards": {
      "version": 1,
      "views": {
       "grid_default": {
        "col": 8,
        "height": 4,
        "hidden": false,
        "row": 53,
        "width": 4
       },
       "report_default": {}
      }
     }
    }
   },
   "source": [
    "And finally the parsing process:"
   ]
  },
  {
   "cell_type": "code",
   "execution_count": 6,
   "metadata": {
    "collapsed": false,
    "extensions": {
     "jupyter_dashboards": {
      "version": 1,
      "views": {
       "grid_default": {
        "col": 4,
        "height": 4,
        "hidden": false,
        "row": 54,
        "width": 4
       },
       "report_default": {}
      }
     }
    }
   },
   "outputs": [
    {
     "name": "stdout",
     "output_type": "stream",
     "text": [
      "Type of the parsed data: <type 'dict'>\n",
      "List of keys: [u'type', u'features', u'metadata']\n"
     ]
    }
   ],
   "source": [
    "data = parsejson( info['content'])\n",
    "\n",
    "print \"Type of the parsed data:\", type(data)\n",
    "print \"List of keys:\", data.keys()"
   ]
  },
  {
   "cell_type": "markdown",
   "metadata": {
    "collapsed": true,
    "extensions": {
     "jupyter_dashboards": {
      "version": 1,
      "views": {
       "grid_default": {
        "hidden": true
       },
       "report_default": {}
      }
     }
    }
   },
   "source": [
    "In this case, event information is in the 'features' attributes"
   ]
  },
  {
   "cell_type": "code",
   "execution_count": 7,
   "metadata": {
    "collapsed": false,
    "extensions": {
     "jupyter_dashboards": {
      "version": 1,
      "views": {
       "grid_default": {
        "col": 0,
        "height": 27,
        "hidden": false,
        "row": 4,
        "width": 4
       },
       "report_default": {}
      }
     }
    }
   },
   "outputs": [
    {
     "name": "stdout",
     "output_type": "stream",
     "text": [
      "***Event: 20171010_0000169\n",
      "{u'lastupdate': u'2017-10-11T06:50:00.0Z', u'magtype': u'mw', u'time': u'2017-10-10T18:53:33.6Z', u'lon': 8.49, u'auth': u'EMSC', u'source_id': u'623367', u'depth': 10.0, u'unid': u'20171010_0000169', u'mag': 6.7, u'evtype': u'ke', u'lat': -54.33, u'source_catalog': u'EMSC-RTS', u'flynn_region': u'BOUVET ISLAND REGION'}\n",
      "***Event: 20171008_0000103\n",
      "{u'lastupdate': u'2017-10-08T22:47:00.0Z', u'magtype': u'mw', u'time': u'2017-10-08T22:34:33.5Z', u'lon': 176.83, u'auth': u'EMSC', u'source_id': u'622928', u'depth': 121.0, u'unid': u'20171008_0000103', u'mag': 6.6, u'evtype': u'ke', u'lat': 52.37, u'source_catalog': u'EMSC-RTS', u'flynn_region': u'RAT ISLANDS, ALEUTIAN ISLANDS'}\n",
      "***Event: 20170919_0000091\n",
      "{u'lastupdate': u'2017-09-19T18:42:00.0Z', u'magtype': u'mw', u'time': u'2017-09-19T18:14:38.5Z', u'lon': -98.47, u'auth': u'EMSC', u'source_id': u'619258', u'depth': 50.0, u'unid': u'20170919_0000091', u'mag': 7.1, u'evtype': u'ke', u'lat': 18.59, u'source_catalog': u'EMSC-RTS', u'flynn_region': u'PUEBLA, MEXICO'}\n",
      "***Event: 20170908_0000020\n",
      "{u'lastupdate': u'2017-09-08T06:19:00.0Z', u'magtype': u'mw', u'time': u'2017-09-08T04:49:21.2Z', u'lon': -93.81, u'auth': u'EMSC', u'source_id': u'616600', u'depth': 72.0, u'unid': u'20170908_0000020', u'mag': 8.1, u'evtype': u'ke', u'lat': 15.02, u'source_catalog': u'EMSC-RTS', u'flynn_region': u'OFFSHORE CHIAPAS, MEXICO'}\n"
     ]
    }
   ],
   "source": [
    "for ev in data['features']:\n",
    "    print \"***Event:\",ev['id']\n",
    "    print ev['properties']"
   ]
  },
  {
   "cell_type": "markdown",
   "metadata": {
    "extensions": {
     "jupyter_dashboards": {
      "version": 1,
      "views": {
       "grid_default": {
        "col": 8,
        "height": 4,
        "hidden": false,
        "row": 57,
        "width": 4
       },
       "report_default": {}
      }
     }
    }
   },
   "source": [
    "#### Parsing Quakeml format\n",
    "\n",
    "the easiest choice is to use the quakeml parser from Obspy."
   ]
  },
  {
   "cell_type": "code",
   "execution_count": 8,
   "metadata": {
    "collapsed": false,
    "extensions": {
     "jupyter_dashboards": {
      "version": 1,
      "views": {
       "grid_default": {
        "col": 4,
        "height": 6,
        "hidden": false,
        "row": 58,
        "width": 4
       },
       "report_default": {}
      }
     }
    }
   },
   "outputs": [
    {
     "name": "stdout",
     "output_type": "stream",
     "text": [
      "4 Event(s) in Catalog:\n",
      "2017-10-10T18:53:33.600000Z | -54.330,   +8.490 | 6.7 mw | manual\n",
      "2017-10-08T22:34:33.500000Z | +52.370, +176.830 | 6.6 mw | manual\n",
      "2017-09-19T18:14:38.500000Z | +18.590,  -98.470 | 7.1 mw | manual\n",
      "2017-09-08T04:49:21.200000Z | +15.020,  -93.810 | 8.1 mw | manual\n"
     ]
    }
   ],
   "source": [
    "from obspy import read_events\n",
    "\n",
    "url = \"http://www.seismicportal.eu/fdsnws/event/1/query?start=2017-09-01&minmag=6.5&format=xml\"\n",
    "\n",
    "data = read_events(url)\n",
    "print data"
   ]
  },
  {
   "cell_type": "markdown",
   "metadata": {
    "extensions": {
     "jupyter_dashboards": {
      "version": 1,
      "views": {
       "grid_default": {
        "col": 0,
        "height": 8,
        "hidden": false,
        "row": 113,
        "width": 12
       },
       "report_default": {}
      }
     }
    }
   },
   "source": [
    "# B. Seismological use cases\n",
    "\n",
    "1. Search for a seismic event\n",
    "2. Get earthquake parameters\n",
    "   * get origin parameters\n",
    "   * add all origins and/or arrivals\n",
    "3. Retrieve a Flinn Endghal region name\n",
    "4. How to look for information from multiple institutes (EMSC, USGS, INGV)\n",
    "5. Get moment tensor data\n",
    "6. Get felt reports data (Testimonies)\n",
    "  \n",
    "   "
   ]
  },
  {
   "cell_type": "markdown",
   "metadata": {},
   "source": [
    "## 1. Search for a seismic event\n",
    "The part A. describes how to use a web service in python and in shell. The url choosen for this example is the one used to search an event between October 1st, 2017 and now with a magnitude greater than 6."
   ]
  },
  {
   "cell_type": "markdown",
   "metadata": {
    "extensions": {
     "jupyter_dashboards": {
      "version": 1,
      "views": {
       "grid_default": {
        "col": 0,
        "height": 4,
        "hidden": false,
        "row": 31,
        "width": 4
       },
       "report_default": {}
      }
     }
    }
   },
   "source": [
    "## 2. Get earthquake parameters\n",
    "\n",
    "In the following, we consider the M7.1 Puebla, Mexico earthquake on September, 19th 2017. Suppose we know the following information.\n",
    "\n",
    "| Earthquake\n",
    "| --- | --- |\n",
    "| Unid | **20170919_0000091** |\n",
    "| Date time | 2017-09-19 18:14:38.5 UTC |\n",
    "| Region | PUEBLA, MEXICO |\n"
   ]
  },
  {
   "cell_type": "code",
   "execution_count": 9,
   "metadata": {
    "collapsed": true,
    "extensions": {
     "jupyter_dashboards": {
      "version": 1,
      "views": {
       "grid_default": {
        "hidden": true
       },
       "report_default": {}
      }
     }
    }
   },
   "outputs": [],
   "source": [
    "main_event = {'unid':'20170919_0000091'}"
   ]
  },
  {
   "cell_type": "markdown",
   "metadata": {
    "extensions": {
     "jupyter_dashboards": {
      "version": 1,
      "views": {
       "grid_default": {
        "col": 0,
        "height": 4,
        "hidden": false,
        "row": 121,
        "width": 12
       },
       "report_default": {}
      }
     }
    }
   },
   "source": [
    "### To get the parameter origin\n",
    "The easiest way to get the parameters of the main origin is to use the fdsn-event web service and to choose the **text** format."
   ]
  },
  {
   "cell_type": "code",
   "execution_count": 10,
   "metadata": {
    "collapsed": false,
    "extensions": {
     "jupyter_dashboards": {
      "version": 1,
      "views": {
       "grid_default": {
        "col": 4,
        "height": 11,
        "hidden": false,
        "row": 0,
        "width": 4
       },
       "report_default": {}
      }
     }
    }
   },
   "outputs": [
    {
     "name": "stdout",
     "output_type": "stream",
     "text": [
      "[['20170919_0000091', '2017-09-19T18:14:38.5Z', '18.59', '-98.47', '50.0', 'EMSC', 'EMSC-RTS', 'EMSC', '619258', 'mw', '7.1', 'EMSC', 'PUEBLA, MEXICO']]\n"
     ]
    }
   ],
   "source": [
    "url = \"http://www.seismicportal.eu/fdsnws/event/1/query?eventid={unid}&format=text\".format(unid=main_event['unid'])\n",
    "res = geturl(url)\n",
    "dataev = parsecsv(res['content'])\n",
    "print dataev"
   ]
  },
  {
   "cell_type": "markdown",
   "metadata": {
    "extensions": {
     "jupyter_dashboards": {
      "version": 1,
      "views": {
       "grid_default": {
        "col": 8,
        "height": 4,
        "hidden": false,
        "row": 91,
        "width": 4
       },
       "report_default": {}
      }
     }
    }
   },
   "source": [
    "If you prefer to use **json**"
   ]
  },
  {
   "cell_type": "code",
   "execution_count": 11,
   "metadata": {
    "collapsed": false,
    "extensions": {
     "jupyter_dashboards": {
      "version": 1,
      "views": {
       "grid_default": {
        "col": 8,
        "height": 6,
        "hidden": false,
        "row": 95,
        "width": 4
       },
       "report_default": {}
      }
     }
    }
   },
   "outputs": [
    {
     "name": "stdout",
     "output_type": "stream",
     "text": [
      "{u'lastupdate': u'2017-09-19T18:42:00.0Z', u'magtype': u'mw', u'time': u'2017-09-19T18:14:38.5Z', u'lon': -98.47, u'auth': u'EMSC', u'source_id': u'619258', u'depth': 50.0, u'unid': u'20170919_0000091', u'mag': 7.1, u'evtype': u'ke', u'lat': 18.59, u'source_catalog': u'EMSC-RTS', u'flynn_region': u'PUEBLA, MEXICO'}\n"
     ]
    }
   ],
   "source": [
    "url = \"http://www.seismicportal.eu/fdsnws/event/1/query?eventid={unid}&format=json\".format(unid=main_event['unid'])\n",
    "res = geturl(url)\n",
    "dataev = parsejson(res['content'])\n",
    "eqinfo = dataev['properties']\n",
    "print eqinfo"
   ]
  },
  {
   "cell_type": "markdown",
   "metadata": {
    "extensions": {
     "jupyter_dashboards": {
      "version": 1,
      "views": {
       "grid_default": {
        "col": 8,
        "height": 4,
        "hidden": false,
        "row": 101,
        "width": 4
       },
       "report_default": {}
      }
     }
    }
   },
   "source": [
    "Or **xml** (Quakeml)"
   ]
  },
  {
   "cell_type": "code",
   "execution_count": 12,
   "metadata": {
    "collapsed": false,
    "extensions": {
     "jupyter_dashboards": {
      "version": 1,
      "views": {
       "grid_default": {
        "col": 4,
        "height": 4,
        "hidden": false,
        "row": 104,
        "width": 4
       },
       "report_default": {}
      }
     }
    }
   },
   "outputs": [
    {
     "name": "stdout",
     "output_type": "stream",
     "text": [
      "1 Event(s) in Catalog:\n",
      "2017-09-19T18:14:38.500000Z | +18.590,  -98.470 | 7.1 mw | manual\n"
     ]
    }
   ],
   "source": [
    "url = \"http://www.seismicportal.eu/fdsnws/event/1/query?eventid={unid}&format=xml\".format(unid=main_event['unid'])\n",
    "dataev = read_events(url)\n",
    "print dataev"
   ]
  },
  {
   "cell_type": "markdown",
   "metadata": {
    "extensions": {
     "jupyter_dashboards": {
      "version": 1,
      "views": {
       "grid_default": {
        "col": 0,
        "height": 6,
        "hidden": false,
        "row": 125,
        "width": 12
       },
       "report_default": {}
      }
     }
    }
   },
   "source": [
    "### To get all origins and/or phases\n",
    "\n",
    "The fdsn-event specifications define the parameter\n",
    " * **includeallorigins** to include also all origins\n",
    " * **includearrivals** to include arrivals\n",
    "Note that in both case, these information are not included with the **text** format and it is a good choice to use the QuakeML format.\n"
   ]
  },
  {
   "cell_type": "code",
   "execution_count": 13,
   "metadata": {
    "collapsed": false,
    "extensions": {
     "jupyter_dashboards": {
      "version": 1,
      "views": {
       "grid_default": {
        "col": 0,
        "height": 37,
        "hidden": false,
        "row": 131,
        "width": 4
       },
       "report_default": {}
      }
     }
    }
   },
   "outputs": [
    {
     "name": "stdout",
     "output_type": "stream",
     "text": [
      "\n",
      "*** With origins\n",
      "1 Event(s) in Catalog:\n",
      "2017-09-19T18:14:38.500000Z | +18.590,  -98.470 | 7.1 mw | manual\n",
      "Event:\t2017-09-19T18:14:38.500000Z | +18.590,  -98.470 | 7.1 mw | manual\n",
      "\n",
      "\t            resource_id: ResourceIdentifier(id=\"quakeml:eu.emsc/event/20170919_0000091\")\n",
      "\t          creation_info: CreationInfo(agency_uri=ResourceIdentifier(id=\"smi:smi-registry/organization/EMSC\"), author_uri=ResourceIdentifier(id=\"smi:smi-registry/organization/EMSC\"), creation_time=UTCDateTime(2017, 9, 19, 18, 43, 15, 714461))\n",
      "\t    preferred_origin_id: ResourceIdentifier(id=\"quakeml:eu.emsc/event/20170919_0000091/origin/FWDO5\")\n",
      "\t preferred_magnitude_id: ResourceIdentifier(id=\"quakeml:eu.emsc/event/20170919_0000091/origin/FWDO5/mag/1\")\n",
      "\t                   ---------\n",
      "\t     event_descriptions: 1 Elements\n",
      "\t                origins: 35 Elements\n",
      "\t             magnitudes: 35 Elements\n",
      "\n",
      "*** With origins and arrivals\n",
      "1 Event(s) in Catalog:\n",
      "2017-09-19T18:14:38.500000Z | +18.590,  -98.470 | 7.1 mw | manual\n",
      "Event:\t2017-09-19T18:14:38.500000Z | +18.590,  -98.470 | 7.1 mw | manual\n",
      "\n",
      "\t            resource_id: ResourceIdentifier(id=\"quakeml:eu.emsc/event/20170919_0000091\")\n",
      "\t          creation_info: CreationInfo(agency_uri=ResourceIdentifier(id=\"smi:smi-registry/organization/EMSC\"), author_uri=ResourceIdentifier(id=\"smi:smi-registry/organization/EMSC\"), creation_time=UTCDateTime(2017, 9, 19, 18, 43, 15, 714461))\n",
      "\t    preferred_origin_id: ResourceIdentifier(id=\"quakeml:eu.emsc/event/20170919_0000091/origin/FWDO5\")\n",
      "\t preferred_magnitude_id: ResourceIdentifier(id=\"quakeml:eu.emsc/event/20170919_0000091/origin/FWDO5/mag/1\")\n",
      "\t                   ---------\n",
      "\t     event_descriptions: 1 Elements\n",
      "\t                  picks: 560 Elements\n",
      "\t             amplitudes: 560 Elements\n",
      "\t                origins: 35 Elements\n",
      "\t             magnitudes: 35 Elements\n",
      "\t     station_magnitudes: 364 Elements\n"
     ]
    }
   ],
   "source": [
    "%%capture --no-stdout\n",
    "#avoid warnings\n",
    "print \"\\n*** With origins\"\n",
    "url = \"http://www.seismicportal.eu/fdsnws/event/1/query?eventid={unid}&format=xml&includeallorigins=true\".format(unid=main_event['unid'])\n",
    "dataev = read_events(url)\n",
    "print dataev\n",
    "for ev in dataev:\n",
    "    print ev\n",
    "\n",
    "print \"\\n*** With origins and arrivals\"\n",
    "url = \"http://www.seismicportal.eu/fdsnws/event/1/query?eventid={unid}&format=xml&includeallorigins=true&includearrivals=true\".format(unid=main_event['unid'])\n",
    "dataev = read_events(url)\n",
    "print dataev\n",
    "for ev in dataev:\n",
    "    print ev"
   ]
  },
  {
   "cell_type": "markdown",
   "metadata": {
    "extensions": {
     "jupyter_dashboards": {
      "version": 1,
      "views": {
       "grid_default": {
        "col": 0,
        "height": 4,
        "hidden": false,
        "row": 35,
        "width": 4
       },
       "report_default": {}
      }
     }
    }
   },
   "source": [
    "## 3. Retrieve a Flinn Endghal region name\n",
    "This web service returns a region name from a geographical location (longitude and latitude)."
   ]
  },
  {
   "cell_type": "code",
   "execution_count": 14,
   "metadata": {
    "collapsed": false,
    "extensions": {
     "jupyter_dashboards": {
      "version": 1,
      "views": {
       "grid_default": {
        "col": 0,
        "height": 4,
        "hidden": false,
        "row": 39,
        "width": 4
       },
       "report_default": {}
      }
     }
    }
   },
   "outputs": [
    {
     "name": "stdout",
     "output_type": "stream",
     "text": [
      "{u'name_s': u'PUEBLA, MEXICO', u'name_h': u'NORTH AMERICA;MEXICO;PUEBLA', u'name_l': u'Puebla, Mexico', u'name_m': u'PUEBLA, MEXICO'}\n"
     ]
    }
   ],
   "source": [
    "url = \"http://www.seismicportal.eu/fe_regions_ws/query?format=json&lat={lat}&lon={lon}\"\n",
    "res = geturl(url.format(**eqinfo))\n",
    "print parsejson(res['content'])"
   ]
  },
  {
   "cell_type": "markdown",
   "metadata": {
    "extensions": {
     "jupyter_dashboards": {
      "version": 1,
      "views": {
       "grid_default": {
        "col": 0,
        "height": 4,
        "hidden": false,
        "row": 43,
        "width": 4
       },
       "report_default": {}
      }
     }
    }
   },
   "source": [
    "## 4. How to manage information from multiple institutes (EMSC, USGS, INGV)\n",
    "Many institutes associate to each event an identifier. And this identifier is an effective way to find the information of an event. It can be time consuming to get ID of different institutes. The **EventID** web service is intended to facilitate this task.\n",
    "\n",
    "To illustrate this, we have the ID of the seismic portal of the M7.1 Mexican earthquake \n",
    "> unid : 20170919_0000091\n",
    "\n",
    "And we would like to get the information from the websites of EMSC, USGS and INGV."
   ]
  },
  {
   "cell_type": "code",
   "execution_count": 15,
   "metadata": {
    "collapsed": false,
    "extensions": {
     "jupyter_dashboards": {
      "version": 1,
      "views": {
       "grid_default": {
        "col": 8,
        "height": 9,
        "hidden": false,
        "row": 0,
        "width": 4
       },
       "report_default": {}
      }
     }
    }
   },
   "outputs": [],
   "source": [
    "url = \"http://vigogne.emsc-csem.org/eventid/api/convert?source_id={id}&source_catalog={source}&out_catalog={out}&format=text\"\n",
    "res = geturl(url.format(id=main_event['unid'], source='UNID', out='all'))\n",
    "iddata = parsecsv(res['content'], usedict=True)"
   ]
  },
  {
   "cell_type": "code",
   "execution_count": 16,
   "metadata": {
    "collapsed": false,
    "extensions": {
     "jupyter_dashboards": {
      "version": 1,
      "views": {
       "grid_default": {
        "col": 4,
        "height": 8,
        "hidden": false,
        "row": 11,
        "width": 4
       },
       "report_default": {}
      }
     }
    }
   },
   "outputs": [
    {
     "name": "stdout",
     "output_type": "stream",
     "text": [
      "* Institute EMSC , ID: 619258\n",
      "   url: http://www.seismicportal.eu/fdsnws/event/1/query?catalog=EMSC-RTS&source_id=619258&format=text\n",
      "* Institute ISC  , ID: 610994335\n",
      "   url: http://isc-mirror.iris.washington.edu/fdsnws/event/1/query?eventid=610994335\n",
      "* Institute USGS , ID: us2000ar20\n",
      "   url: https://earthquake.usgs.gov/fdsnws/event/1/query?eventid=us2000ar20&format=csv\n",
      "* Institute INGV , ID: 17111031\n",
      "   url: http://webservices.ingv.it/fdsnws/event/1/query?format=text&eventId=17111031\n"
     ]
    }
   ],
   "source": [
    "for l in iddata:\n",
    "    print \"* Institute {#catalog:5}, ID: {eventid}\\n   url: {url}\".format(**l)"
   ]
  },
  {
   "cell_type": "markdown",
   "metadata": {
    "extensions": {
     "jupyter_dashboards": {
      "version": 1,
      "views": {
       "grid_default": {
        "col": 0,
        "height": 4,
        "hidden": false,
        "row": 47,
        "width": 4
       },
       "report_default": {}
      }
     }
    }
   },
   "source": [
    "Now we can check event information from \n",
    " * USGS https://earthquake.usgs.gov/earthquakes/eventpage/us2000ar20\n",
    " * EMSC https://www.emsc-csem.org/Earthquake/earthquake.php?id=619258\n",
    " * INGV http://cnt.rm.ingv.it/event/17111031"
   ]
  },
  {
   "cell_type": "markdown",
   "metadata": {
    "extensions": {
     "jupyter_dashboards": {
      "version": 1,
      "views": {
       "grid_default": {
        "col": 0,
        "height": 4,
        "hidden": false,
        "row": 51,
        "width": 4
       },
       "report_default": {}
      }
     }
    }
   },
   "source": [
    "## 5. Get moment tensor data\n",
    "First we try to find moment tensors data for one event (here the M7.1 seismic event in Mexico)"
   ]
  },
  {
   "cell_type": "code",
   "execution_count": 17,
   "metadata": {
    "collapsed": false,
    "extensions": {
     "jupyter_dashboards": {
      "version": 1,
      "views": {
       "grid_default": {
        "col": 4,
        "height": 27,
        "hidden": false,
        "row": 19,
        "width": 4
       },
       "report_default": {}
      }
     }
    }
   },
   "outputs": [
    {
     "name": "stdout",
     "output_type": "stream",
     "text": [
      "#ev_unid|ev_region|ev_event_time|ev_latitude|ev_longitude|ev_mag_type|ev_mag_value|ev_depth|mt_source_catalog|mt_region|mt_centroid_time|mt_latitude|mt_longitude|mt_mw|mt_depth|mt_strike_1|mt_dip_1|mt_rake_1|mt_strike_2|mt_dip_2|mt_rake_2|mt_tval|mt_tplung|mt_taz|mt_pval|mt_pplung|mt_paz|mt_nval|mt_nplung|mt_naz|mt_mrr|mt_mtt|mt_mpp|mt_mrt|mt_mrp|mt_mtp|mt_per_dc|mt_per_clvd|mt_per_iso|mt_m0\n",
      "20170919_0000091|PUEBLA, MEXICO|2017-09-19 18:14:38.5 UTC|18.59|-98.47|mw|7.1|50|GCMT|PUEBLA, MEXICO|2017-09-19 18:14:47.1 UTC|18.51|-98.62|7.1|53|108|44|-98|300|47|-82|6.276e19|1|23|-6.506e19|84|281|0.231e19|5|114|-6.43e19|5.28e19|1.15e19|-0.006e19|-0.742e19|-2.25e19|92.91|7.09|0|6.39e19\n",
      "20170919_0000091|PUEBLA, MEXICO|2017-09-19 18:14:38.5 UTC|18.59|-98.47|mw|7.1|50|CPPT|PUEBLA, MEXICO|2017-09-19 18:14:40 UTC|18.42|-98.57|7|15|324|50|-42|83|59|-132|4.02e19|5|201|-4.019e19|54|299|0e19|35|108|-2.618e19|3.111e19|-0.493e19|-1.254e19|-1.533e19|-1.961e19|99.98|0.02|0|4.02e19\n",
      "20170919_0000091|PUEBLA, ME\n"
     ]
    }
   ],
   "source": [
    "url = \"http://vigogne.emsc-csem.org/mtws/api/search?format=text&eventid={unid}\"\n",
    "res = geturl(url.format(unid=main_event['unid']))\n",
    "print res['content'][:1000]"
   ]
  },
  {
   "cell_type": "code",
   "execution_count": 18,
   "metadata": {
    "collapsed": false,
    "extensions": {
     "jupyter_dashboards": {
      "version": 1,
      "views": {
       "grid_default": {
        "col": 8,
        "height": 7,
        "hidden": false,
        "row": 9,
        "width": 4
       },
       "report_default": {}
      }
     }
    }
   },
   "outputs": [
    {
     "name": "stdout",
     "output_type": "stream",
     "text": [
      "Mt from GCMT      , Strike: 108, Dip: 44, Rake: -98\n",
      "Mt from CPPT      , Strike: 324, Dip: 50, Rake: -42\n",
      "Mt from USGS      , Strike: 111, Dip: 46, Rake: -94\n",
      "Mt from IPGP      , Strike: 111, Dip: 37, Rake: -91\n",
      "Mt from GFZ       , Strike: 104, Dip: 49, Rake: -98\n"
     ]
    }
   ],
   "source": [
    "mt_data = parsecsv(res['content'], usedict=True)\n",
    "for mt in mt_data:\n",
    "    print \"Mt from {mt_source_catalog:10}, Strike: {mt_strike_1}, Dip: {mt_dip_1}, Rake: {mt_rake_1}\".format(**mt)"
   ]
  },
  {
   "cell_type": "markdown",
   "metadata": {
    "extensions": {
     "jupyter_dashboards": {
      "version": 1,
      "views": {
       "grid_default": {
        "col": 0,
        "height": 4,
        "hidden": false,
        "row": 168,
        "width": 12
       },
       "report_default": {}
      }
     }
    }
   },
   "source": [
    "And we get all moment tensor solutions received by the EMSC.\n",
    "\n",
    "Let's play with obspy to plot the USGS solution. To select directly this moment tensor, we can add the constraint **source_catalog=USGS** to this url."
   ]
  },
  {
   "cell_type": "code",
   "execution_count": 19,
   "metadata": {
    "collapsed": false,
    "extensions": {
     "jupyter_dashboards": {
      "version": 1,
      "views": {
       "grid_default": {
        "col": 4,
        "height": 10,
        "hidden": false,
        "row": 131,
        "width": 4
       },
       "report_default": {}
      }
     }
    }
   },
   "outputs": [
    {
     "name": "stdout",
     "output_type": "stream",
     "text": [
      "USGS solution\n"
     ]
    },
    {
     "data": {
      "image/png": "[encoded data removed]",
      "text/plain": [
       "<matplotlib.figure.Figure at 0x7f31ef3a95d0>"
      ]
     },
     "metadata": {},
     "output_type": "display_data"
    }
   ],
   "source": [
    "from obspy.imaging.beachball import beachball\n",
    "url= \"http://vigogne.emsc-csem.org/mtws/api/search?source_catalog=USGS&eventid=20170919_0000091&format=text\"\n",
    "mt = parsecsv(geturl(url)['content'], usedict=True)[0] #we get a list with only one element.\n",
    "t = map(float, [mt['mt_mrr'], mt['mt_mtt'], mt['mt_mpp'], mt['mt_mrt'], mt['mt_mrp'], mt['mt_mtp']])\n",
    "print \"USGS solution\"\n",
    "beachball(t, width=200);\n"
   ]
  },
  {
   "cell_type": "markdown",
   "metadata": {
    "extensions": {
     "jupyter_dashboards": {
      "version": 1,
      "views": {
       "grid_default": {
        "col": 0,
        "height": 6,
        "hidden": false,
        "row": 172,
        "width": 12
       },
       "report_default": {}
      }
     }
    }
   },
   "source": [
    "### Case of multiple events\n",
    "Let's see the case where we want to collect all MT for the last month that have a magnitude greater than 6. The URL corresponding to this search is:\n",
    "> http://vigogne.emsc-csem.org/mtws/api/search?starttime=2017-10-01&endtime=2017-10-19&minmag=6&format=text\n",
    "\n"
   ]
  },
  {
   "cell_type": "code",
   "execution_count": 20,
   "metadata": {
    "collapsed": false,
    "extensions": {
     "jupyter_dashboards": {
      "version": 1,
      "views": {
       "grid_default": {
        "col": 8,
        "height": 36,
        "hidden": false,
        "row": 131,
        "width": 4
       },
       "report_default": {}
      }
     }
    }
   },
   "outputs": [
    {
     "name": "stdout",
     "output_type": "stream",
     "text": [
      "Data contains 6 events for 30 Mt\n",
      "\n",
      "GCMT  , Unid: 20171018_0000044, Strike: 214, Dip: 21, Rake: 97\n",
      "CPPT  , Unid: 20171018_0000044, Strike: 237, Dip: 16, Rake: 121\n",
      "GFZ   , Unid: 20171018_0000044, Strike: 223, Dip: 14, Rake: 104\n",
      "IPGP  , Unid: 20171018_0000044, Strike: 232, Dip: 19, Rake: 115\n",
      "USGS  , Unid: 20171018_0000044, Strike: 201, Dip: 26, Rake: 78\n",
      "GCMT  , Unid: 20171010_0000169, Strike: 218, Dip: 85, Rake: -180\n",
      "GFZ   , Unid: 20171010_0000169, Strike: 309, Dip: 88, Rake: 5\n",
      "CPPT  , Unid: 20171010_0000169, Strike: 310, Dip: 79, Rake: 4\n",
      "USGS  , Unid: 20171010_0000169, Strike: 310, Dip: 84, Rake: -3\n",
      "IPGP  , Unid: 20171010_0000169, Strike: 130, Dip: 90, Rake: 3\n",
      "GCMT  , Unid: 20171008_0000103, Strike: 220, Dip: 39, Rake: 5\n",
      "CPPT  , Unid: 20171008_0000103, Strike: 221, Dip: 49, Rake: 3\n",
      "USGS  , Unid: 20171008_0000103, Strike: 217, Dip: 43, Rake: 4\n",
      "GFZ   , Unid: 20171008_0000103, Strike: 124, Dip: 86, Rake: 129\n",
      "IPGP  , Unid: 20171008_0000103, Strike: 222, Dip: 39, Rake: 2\n",
      "GCMT  , Unid: 20171008_0000093, Strike: 244, Dip: 79, Rake: -178\n",
      "GFZ   , Unid: 20171008_0000093, Strike: 153, Dip: 83, Rake: 4\n",
      "USGS  , Unid: 20171008_0000093, Strike: 153, Dip: 71, Rake: -9\n",
      "CPPT  , Unid: 20171008_0000093, Strike: 152, Dip: 78, Rake: -10\n",
      "IPGP  , Unid: 20171008_0000093, Strike: 65, Dip: 83, Rake: 171\n",
      "GCMT  , Unid: 20171008_0000067, Strike: 290, Dip: 88, Rake: 180\n",
      "CPPT  , Unid: 20171008_0000067, Strike: 20, Dip: 27, Rake: -2\n",
      "GFZ   , Unid: 20171008_0000067, Strike: 293, Dip: 71, Rake: -169\n",
      "USGS  , Unid: 20171008_0000067, Strike: 113, Dip: 64, Rake: -164\n",
      "IPGP  , Unid: 20171008_0000067, Strike: 292, Dip: 69, Rake: -170\n",
      "GCMT  , Unid: 20171006_0000040, Strike: 42, Dip: 43, Rake: -66\n",
      "IPGP  , Unid: 20171006_0000040, Strike: 45, Dip: 46, Rake: -63\n",
      "CPPT  , Unid: 20171006_0000040, Strike: 55, Dip: 48, Rake: -45\n",
      "USGS  , Unid: 20171006_0000040, Strike: 217, Dip: 36, Rake: -70\n",
      "GFZ   , Unid: 20171006_0000040, Strike: 200, Dip: 51, Rake: -99\n"
     ]
    }
   ],
   "source": [
    "url = 'http://vigogne.emsc-csem.org/mtws/api/search\\\n",
    "?starttime=2017-10-01&endtime=2017-10-19&minmag=6&format=text'\n",
    "res = geturl(url)\n",
    "mt_data = parsecsv(res['content'], usedict=True)\n",
    "\n",
    "#how many distinct events?\n",
    "allid = set([ mt['#ev_unid'] for mt in mt_data])\n",
    "print \"Data contains {0} events for {1} Mt\\n\".format(len(allid), len(mt_data))\n",
    "\n",
    "for mt in mt_data:\n",
    "    print \"{mt_source_catalog:6}, Unid: {#ev_unid}, Strike: {mt_strike_1}, Dip: {mt_dip_1}, Rake: {mt_rake_1}\".format(**mt)"
   ]
  },
  {
   "cell_type": "markdown",
   "metadata": {
    "extensions": {
     "jupyter_dashboards": {
      "version": 1,
      "views": {
       "grid_default": {
        "col": 0,
        "height": 4,
        "hidden": false,
        "row": 178,
        "width": 12
       },
       "report_default": {}
      }
     }
    }
   },
   "source": [
    "If you want to make a maps of moment tensors, it's often useful to select only one solution per event. To solve this issue, we have introduce the notion of preferred solution. The associated parameter is **preferredOnly**. If we add **preferredOnly=true** to the url we obtain the following result."
   ]
  },
  {
   "cell_type": "code",
   "execution_count": 21,
   "metadata": {
    "collapsed": false,
    "extensions": {
     "jupyter_dashboards": {
      "version": 1,
      "views": {
       "grid_default": {
        "col": 8,
        "height": 8,
        "hidden": false,
        "row": 105,
        "width": 4
       },
       "report_default": {}
      }
     }
    }
   },
   "outputs": [
    {
     "name": "stdout",
     "output_type": "stream",
     "text": [
      "GCMT  , Unid: 20171018_0000044, Strike: 214, Dip: 21, Rake: 97\n",
      "GCMT  , Unid: 20171010_0000169, Strike: 218, Dip: 85, Rake: -180\n",
      "GCMT  , Unid: 20171008_0000103, Strike: 220, Dip: 39, Rake: 5\n",
      "GCMT  , Unid: 20171008_0000093, Strike: 244, Dip: 79, Rake: -178\n",
      "GCMT  , Unid: 20171008_0000067, Strike: 290, Dip: 88, Rake: 180\n",
      "GCMT  , Unid: 20171006_0000040, Strike: 42, Dip: 43, Rake: -66\n"
     ]
    }
   ],
   "source": [
    "url = 'http://vigogne.emsc-csem.org/mtws/api/search\\\n",
    "?starttime=2017-10-01&endtime=2017-10-19&minmag=6&format=text&preferredOnly=true'\n",
    "mt_data = parsecsv(geturl(url)['content'], usedict=True)\n",
    "for mt in mt_data:\n",
    "    print \"{mt_source_catalog:6}, Unid: {#ev_unid}, Strike: {mt_strike_1}, Dip: {mt_dip_1}, Rake: {mt_rake_1}\".format(**mt)"
   ]
  },
  {
   "cell_type": "markdown",
   "metadata": {
    "extensions": {
     "jupyter_dashboards": {
      "version": 1,
      "views": {
       "grid_default": {
        "col": 0,
        "height": 4,
        "hidden": false,
        "row": 55,
        "width": 4
       },
       "report_default": {}
      }
     }
    }
   },
   "source": [
    "## 6. Get felt reports (Testimonies)\n",
    "\n",
    "Through our website, mobile and our mobile app LastQuake, we encourage eyewitnesses to evaluate the felt intensity for significant earthquakes. All this dataset is available via our **Testimonies** web service.\n",
    "\n",
    "The search parameters are simple and looks like other web services specifications. The main difference is with the output. You have the choice to get only event parameters with **format=text** and **format=json**."
   ]
  },
  {
   "cell_type": "code",
   "execution_count": 22,
   "metadata": {
    "collapsed": false,
    "extensions": {
     "jupyter_dashboards": {
      "version": 1,
      "views": {
       "grid_default": {
        "hidden": true
       },
       "report_default": {}
      }
     }
    }
   },
   "outputs": [
    {
     "name": "stdout",
     "output_type": "stream",
     "text": [
      "[{u'ev_unid': u'20170919_0000091', u'ev_mag_value': 7.1, u'ev_event_time': u'2017-09-19 18:14:38.5 UTC', u'ev_mag_type': u'mw', u'ev_nbtestimonies': 737, u'ev_depth': 50, u'full_count': 1, u'ev_last_update': u'2017-10-18 14:21:59 UTC', u'ev_region': u'PUEBLA, MEXICO', u'ev_longitude': -98.47, u'ev_deltatime': u'@ 28 days 20 hours 7 mins 20.5 secs', u'ev_id': 5463, u'ev_latitude': 18.59}]\n"
     ]
    }
   ],
   "source": [
    "url = \"http://vigogne.emsc-csem.org/testimonies-ws/api/search?eventid={unid}&format=json\"\n",
    "tdata = parsejson(geturl(url.format(**main_event))['content'])\n",
    "print tdata"
   ]
  },
  {
   "cell_type": "markdown",
   "metadata": {
    "extensions": {
     "jupyter_dashboards": {
      "version": 1,
      "views": {
       "grid_default": {
        "col": 4,
        "height": 4,
        "hidden": false,
        "row": 108,
        "width": 4
       },
       "report_default": {}
      }
     }
    }
   },
   "source": [
    "Here we don't have the values of the testimony intensities but we get the number of testimonies"
   ]
  },
  {
   "cell_type": "code",
   "execution_count": 23,
   "metadata": {
    "collapsed": false,
    "extensions": {
     "jupyter_dashboards": {
      "version": 1,
      "views": {
       "grid_default": {
        "col": 0,
        "height": 5,
        "hidden": false,
        "row": 59,
        "width": 4
       },
       "report_default": {}
      }
     }
    }
   },
   "outputs": [
    {
     "name": "stdout",
     "output_type": "stream",
     "text": [
      "Nbr of testimonies: 737\n"
     ]
    }
   ],
   "source": [
    "print 'Nbr of testimonies:',tdata[0]['ev_nbtestimonies']"
   ]
  },
  {
   "cell_type": "markdown",
   "metadata": {
    "extensions": {
     "jupyter_dashboards": {
      "version": 1,
      "views": {
       "grid_default": {
        "col": 0,
        "height": 7,
        "hidden": false,
        "row": 182,
        "width": 12
       },
       "report_default": {}
      }
     }
    }
   },
   "source": [
    "### Access to all testimonies (in shell)\n",
    "To access to all testimonies, the query is different and the url looks like:\n",
    "> http://vigogne.emsc-csem.org/testimonies-ws/api/search?unids=[UNID1,UNID2,...]&includeTestimonies=true\n",
    "\n",
    "Notice the contraint **includeTestimonies=true** and the **unids=[...]**. To avoid overhead, this web service return a zip file containing a text file for each requested events."
   ]
  },
  {
   "cell_type": "code",
   "execution_count": 24,
   "metadata": {
    "collapsed": false,
    "extensions": {
     "jupyter_dashboards": {
      "version": 1,
      "views": {
       "grid_default": {
        "col": 4,
        "height": 6,
        "hidden": false,
        "row": 141,
        "width": 4
       },
       "report_default": {}
      }
     }
    }
   },
   "outputs": [
    {
     "name": "stdout",
     "output_type": "stream",
     "text": [
      "total 108\n",
      "-rw-rw-rw- 1 root root 16868 Jan  1  1980 20170919_0000091.txt\n",
      "-rw-r--r-- 1 root root 72024 Oct 20 12:04 emsc_services.ipynb\n",
      "-rw-rw-rw- 1 root root   628 Oct 20 12:04 res.txt\n",
      "-rw-r--r-- 1 root root 10240 Oct 20 12:04 res.zip\n"
     ]
    },
    {
     "name": "stderr",
     "output_type": "stream",
     "text": [
      "--2017-10-20 12:04:55--  http://vigogne.emsc-csem.org/testimonies-ws/api/search?unids=[20170919_0000091]&includeTestimonies=true\n",
      "Resolving vigogne.emsc-csem.org (vigogne.emsc-csem.org)... 193.52.21.79\n",
      "Connecting to vigogne.emsc-csem.org (vigogne.emsc-csem.org)|193.52.21.79|:80... connected.\n",
      "HTTP request sent, awaiting response... 200 OK\n",
      "Length: unspecified [application/json]\n",
      "Saving to: ‘res.zip’\n",
      "\n",
      "     0K ..........                                             77.5M=0s\n",
      "\n",
      "2017-10-20 12:04:55 (77.5 MB/s) - ‘res.zip’ saved [10240]\n",
      "\n"
     ]
    }
   ],
   "source": [
    "%%bash\n",
    "UNID=20170919_0000091\n",
    "wget -O \"res.zip\" \"http://vigogne.emsc-csem.org/testimonies-ws/api/search?unids=[${UNID}]&includeTestimonies=true\"\n",
    "ls -l"
   ]
  },
  {
   "cell_type": "markdown",
   "metadata": {
    "extensions": {
     "jupyter_dashboards": {
      "version": 1,
      "views": {
       "grid_default": {
        "col": 4,
        "height": 4,
        "hidden": false,
        "row": 147,
        "width": 4
       },
       "report_default": {}
      }
     }
    }
   },
   "source": [
    "We get the zip file 'res.zip' and we can check the content of the archive and verify that we get the *20170919_0000091.txt* file."
   ]
  },
  {
   "cell_type": "code",
   "execution_count": 25,
   "metadata": {
    "collapsed": false,
    "extensions": {
     "jupyter_dashboards": {
      "version": 1,
      "views": {
       "grid_default": {
        "col": 4,
        "height": 4,
        "hidden": false,
        "row": 151,
        "width": 4
       },
       "report_default": {}
      }
     }
    }
   },
   "outputs": [
    {
     "name": "stdout",
     "output_type": "stream",
     "text": [
      "\n",
      "*** Unzip the Downloaded file ***\n",
      "Archive:  res.zip\n"
     ]
    }
   ],
   "source": [
    "%%bash\n",
    "echo\n",
    "echo \"*** Unzip the Downloaded file ***\"\n",
    "unzip -u 'res.zip'\n",
    "chmod a+rw *.txt #need to do that for some file in jupyter notebook"
   ]
  },
  {
   "cell_type": "markdown",
   "metadata": {
    "extensions": {
     "jupyter_dashboards": {
      "version": 1,
      "views": {
       "grid_default": {
        "col": 4,
        "height": 4,
        "hidden": false,
        "row": 155,
        "width": 4
       },
       "report_default": {}
      }
     }
    }
   },
   "source": [
    "The format of text file inside the zip is a column based using a ',' as delimiter. It's easy to parse in python and in shell with *awk* for instance."
   ]
  },
  {
   "cell_type": "code",
   "execution_count": 26,
   "metadata": {
    "collapsed": false,
    "extensions": {
     "jupyter_dashboards": {
      "version": 1,
      "views": {
       "grid_default": {
        "col": 0,
        "height": 15,
        "hidden": false,
        "row": 189,
        "width": 4
       },
       "report_default": {}
      }
     }
    }
   },
   "outputs": [
    {
     "name": "stdout",
     "output_type": "stream",
     "text": [
      "#20170919_0000091\n",
      "#thumbnails 1.0\n",
      "#Correction from Bossu et al. 2016\n",
      "#longitude,latitude,iraw,icorr\n",
      "-96.133,19.1854,4,4.5\n",
      "-99.1332,19.4319,6,7.1\n",
      "-99.1332,19.4326,5,5.8\n",
      "-98.8734,19.5066,6,7.1\n",
      "-97.9228,19.3205,6,7.1\n",
      "-99.1672,19.2702,6,7.1\n",
      "\n",
      "Parsing with awk\n",
      "Longitude:-96.133000, Latitude:19.185400, Raw I:4, Corr I:4.5\n",
      "Longitude:-99.133200, Latitude:19.431900, Raw I:6, Corr I:7.1\n",
      "Longitude:-99.133200, Latitude:19.432600, Raw I:5, Corr I:5.8\n",
      "Longitude:-98.873400, Latitude:19.506600, Raw I:6, Corr I:7.1\n",
      "Longitude:-97.922800, Latitude:19.320500, Raw I:6, Corr I:7.1\n",
      "Longitude:-99.167200, Latitude:19.270200, Raw I:6, Corr I:7.1\n"
     ]
    }
   ],
   "source": [
    "%%bash\n",
    "UNID=20170919_0000091\n",
    "head ${UNID}.txt\n",
    "\n",
    "echo \n",
    "echo \"Parsing with awk\"\n",
    "head ${UNID}.txt | awk -F',' '!/^#/ {printf \"Longitude:%f, Latitude:%f, Raw I:%d, Corr I:%.1f\\n\", $1, $2, $3, $4}' "
   ]
  },
  {
   "cell_type": "markdown",
   "metadata": {
    "extensions": {
     "jupyter_dashboards": {
      "version": 1,
      "views": {
       "grid_default": {
        "col": 4,
        "height": 4,
        "hidden": false,
        "row": 159,
        "width": 4
       },
       "report_default": {}
      }
     }
    }
   },
   "source": [
    "### Python version\n",
    "With python we can get the data in numpy array without writing file."
   ]
  },
  {
   "cell_type": "code",
   "execution_count": 27,
   "metadata": {
    "collapsed": false,
    "extensions": {
     "jupyter_dashboards": {
      "version": 1,
      "views": {
       "grid_default": {
        "col": 8,
        "height": 4,
        "hidden": false,
        "row": 16,
        "width": 4
       },
       "report_default": {}
      }
     }
    }
   },
   "outputs": [
    {
     "name": "stdout",
     "output_type": "stream",
     "text": [
      "Requested event: {'unid': '20170919_0000091'}\n",
      "Downloaded result: ['20170919_0000091.txt']\n"
     ]
    }
   ],
   "source": [
    "import zipfile\n",
    "url = \"http://vigogne.emsc-csem.org/testimonies-ws/api/search?unids=[{unid}]&includeTestimonies=true\"\n",
    "r = requests.get(url.format(**main_event), stream=True)\n",
    "z = zipfile.ZipFile(StringIO(r.content))\n",
    "print 'Requested event:' ,main_event\n",
    "print 'Downloaded result:', z.namelist()"
   ]
  },
  {
   "cell_type": "markdown",
   "metadata": {
    "extensions": {
     "jupyter_dashboards": {
      "version": 1,
      "views": {
       "grid_default": {
        "col": 4,
        "height": 4,
        "hidden": false,
        "row": 163,
        "width": 4
       },
       "report_default": {}
      }
     }
    }
   },
   "source": [
    "We can verify that the downloaded data contains only one file for our main event."
   ]
  },
  {
   "cell_type": "code",
   "execution_count": 28,
   "metadata": {
    "collapsed": false,
    "extensions": {
     "jupyter_dashboards": {
      "version": 1,
      "views": {
       "grid_default": {
        "hidden": true
       },
       "report_default": {}
      }
     }
    }
   },
   "outputs": [],
   "source": [
    "#Expected name\n",
    "filename = \"{unid}.txt\".format(**main_event)\n",
    "data = z.read(filename)"
   ]
  },
  {
   "cell_type": "markdown",
   "metadata": {
    "extensions": {
     "jupyter_dashboards": {
      "version": 1,
      "views": {
       "grid_default": {
        "col": 4,
        "height": 4,
        "hidden": false,
        "row": 189,
        "width": 4
       },
       "report_default": {}
      }
     }
    }
   },
   "source": [
    "To parse the data, a simple numpy *loadtxt* does the job."
   ]
  },
  {
   "cell_type": "code",
   "execution_count": 29,
   "metadata": {
    "collapsed": false,
    "extensions": {
     "jupyter_dashboards": {
      "version": 1,
      "views": {
       "grid_default": {
        "hidden": true
       },
       "report_default": {}
      }
     }
    }
   },
   "outputs": [
    {
     "name": "stdout",
     "output_type": "stream",
     "text": [
      "(737, 4)\n",
      "[[-96.133   19.1854   4.       4.5   ]\n",
      " [-99.1332  19.4319   6.       7.1   ]\n",
      " [-99.1332  19.4326   5.       5.8   ]\n",
      " ..., \n",
      " [-99.1332  19.4326   7.       8.3   ]\n",
      " [-97.9234  19.3185   4.       4.5   ]\n",
      " [-99.1646  19.4319  10.      10.    ]]\n"
     ]
    }
   ],
   "source": [
    "import numpy as np\n",
    "\n",
    "A = np.loadtxt(StringIO(data), delimiter=',')\n",
    "print A.shape\n",
    "print A"
   ]
  }
 ],
 "metadata": {
  "anaconda-cloud": {},
  "extensions": {
   "jupyter_dashboards": {
    "activeView": "grid_default",
    "version": 1,
    "views": {
     "grid_default": {
      "cellMargin": 10,
      "defaultCellHeight": 20,
      "maxColumns": 12,
      "name": "grid",
      "type": "grid"
     },
     "report_default": {
      "name": "report",
      "type": "report"
     }
    }
   }
  },
  "kernelspec": {
   "display_name": "Python2",
   "language": "python",
   "name": "python2"
  },
  "language_info": {
   "codemirror_mode": {
    "name": "ipython",
    "version": 2
   },
   "file_extension": ".py",
   "mimetype": "text/x-python",
   "name": "python",
   "nbconvert_exporter": "python",
   "pygments_lexer": "ipython2",
   "version": "2.7.12"
  }
 },
 "nbformat": 4,
 "nbformat_minor": 1
}
